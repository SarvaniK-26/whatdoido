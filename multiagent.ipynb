{
 "cells": [
  {
   "cell_type": "code",
   "execution_count": 1,
   "metadata": {},
   "outputs": [],
   "source": [
    "# imports \n",
    "import os\n",
    "from dotenv import load_dotenv\n",
    "from langchain.chat_models import ChatOpenAI\n",
    "import json\n",
    "from langchain.agents import Tool\n",
    "from langchain.tools import tool\n",
    "from langchain.prompts import PromptTemplate\n",
    "from langchain.chat_models import ChatOpenAI\n",
    "from langchain.prompts import PromptTemplate\n",
    "from langchain.chains import LLMChain\n",
    "from langchain.schema import HumanMessage\n",
    "\n",
    "from langchain.text_splitter import RecursiveCharacterTextSplitter\n",
    "from langchain.embeddings.openai import OpenAIEmbeddings\n",
    "\n",
    "\n",
    "import pinecone\n",
    "\n",
    "\n",
    "# Load environment variables from .env\n",
    "load_dotenv()\n",
    "api_key = os.getenv(\"OPENAI_API_KEY\")\n",
    "if not api_key:\n",
    "    raise ValueError(\"OPENAI_API_KEY not found in .env file!\")\n"
   ]
  },
  {
   "cell_type": "code",
   "execution_count": 22,
   "metadata": {},
   "outputs": [],
   "source": [
    "llm = ChatOpenAI(temperature=0.7)\n",
    "\n",
    "def suggest_workout(input_str):\n",
    "    try:\n",
    "        input = json.loads(input_str)\n",
    "    except json.JSONDecodeError:\n",
    "        return \"Error: input should be a JSON string.\"\n",
    "\n",
    "    sore_muscles = input.get(\"sore_muscles\", [])\n",
    "    time = input.get(\"time_available\", 30)\n",
    "    equipment = input.get(\"equipment\", [])\n",
    "\n",
    "    prompt = f\"\"\"\n",
    "    You are a helpful and experienced fitness coach.\n",
    "\n",
    "    A client gives you the following info (some fields might be missing):\n",
    "    - Sore muscles: {sore_muscles if sore_muscles else 'No information provided'}\n",
    "    - Time available (minutes): {time if time else 'No information provided'}\n",
    "    - Available equipment: {equipment if equipment else 'Assume a public gym with basic equipment'}\n",
    "\n",
    "    Please create a personalized workout plan that:\n",
    "    - Avoids sore muscles if specified!\n",
    "    - Fits within the available time if given\n",
    "    - Uses the available equipment or assumes a public gym otherwise\n",
    "    - Keeps the plan simple and motivational\n",
    "\n",
    "    If some info is missing, make reasonable guesses.\n",
    "    \"\"\"\n",
    "\n",
    "    response = llm([HumanMessage(content=prompt)])\n",
    "\n",
    "    return response.content"
   ]
  },
  {
   "cell_type": "code",
   "execution_count": 23,
   "metadata": {},
   "outputs": [],
   "source": [
    "def suggest_workout_tool(input_str):\n",
    "    return suggest_workout(input_str)\n",
    "\n",
    "workout_tool = Tool.from_function(\n",
    "    suggest_workout_tool,\n",
    "    name=\"suggest_workout\",\n",
    "    description=\"Generates a personalized workout plan given soreness, time, and equipment in JSON format\"\n",
    ")"
   ]
  },
  {
   "cell_type": "code",
   "execution_count": 24,
   "metadata": {},
   "outputs": [
    {
     "name": "stdout",
     "output_type": "stream",
     "text": [
      "\n",
      "\n",
      "\u001b[1m> Entering new AgentExecutor chain...\u001b[0m\n",
      "\u001b[32;1m\u001b[1;3mI should consider a workout that doesn't put too much strain on my arms.\n",
      "Action: suggest_workout\n",
      "Action Input: {\"time\": 30, \"soreness\": \"arms\"}\u001b[0m\n",
      "Observation: \u001b[36;1m\u001b[1;3mBased on the information provided, here is a personalized 30-minute workout plan for you at a public gym with basic equipment:\n",
      "\n",
      "1. Warm-up (5 minutes):\n",
      "   - Start with a 5-minute light jog on the treadmill or around the gym to get your heart rate up and muscles warmed up.\n",
      "\n",
      "2. Full-body circuit (20 minutes):\n",
      "   - Bodyweight squats: 3 sets of 15 reps\n",
      "   - Push-ups: 3 sets of 10 reps\n",
      "   - Bent-over rows (using dumbbells): 3 sets of 12 reps\n",
      "   - Plank: 3 sets of 30 seconds\n",
      "   - Lunges (alternating legs): 3 sets of 12 reps per leg\n",
      "\n",
      "3. Cardio finisher (5 minutes):\n",
      "   - Finish your workout with 5 minutes of high-intensity interval training (HIIT) on the stationary bike or elliptical machine. Alternate between 30 seconds of high intensity and 30 seconds of low intensity for a total of 5 minutes.\n",
      "\n",
      "Remember to listen to your body and adjust the workout intensity as needed. Stay hydrated throughout your workout and don't forget to cool down and stretch afterwards. Enjoy your workout and stay motivated!\u001b[0m\n",
      "Thought:\u001b[32;1m\u001b[1;3mI have a detailed workout plan to follow for the next 30 minutes.\n",
      "Final Answer: Based on the information provided, you should follow the personalized 30-minute workout plan provided.\u001b[0m\n",
      "\n",
      "\u001b[1m> Finished chain.\u001b[0m\n",
      "Based on the information provided, you should follow the personalized 30-minute workout plan provided.\n"
     ]
    }
   ],
   "source": [
    "from langchain.agents import initialize_agent, AgentType\n",
    "\n",
    "agent = initialize_agent(\n",
    "    tools=[workout_tool],\n",
    "    llm=llm,\n",
    "    agent=AgentType.ZERO_SHOT_REACT_DESCRIPTION,\n",
    "    verbose=True,\n",
    ")\n",
    "\n",
    "response = agent.run(\"I have 30 minutes and my arms are sore. What workout should I do?\")\n",
    "print(response)\n"
   ]
  },
  {
   "cell_type": "code",
   "execution_count": 34,
   "metadata": {},
   "outputs": [],
   "source": [
    "llm = ChatOpenAI(temperature=0.8)\n",
    "\n",
    "def suggest_meal(input_str):\n",
    "    try:\n",
    "        input = json.loads(input_str)\n",
    "    except json.JSONDecodeError:\n",
    "        return \"Error: input should be a JSON string.\"\n",
    "\n",
    "    cuisine = input.get(\"cuisine\", [])\n",
    "    dietary = input.get(\"dietary_restriction\", [])\n",
    "    time = input.get(\"time\", 30)\n",
    "\n",
    "    prompt = f\"\"\"\n",
    "    You are a helpful and experienced dietician.\n",
    "\n",
    "    A client gives you the following info (some fields might be missing):\n",
    "    - Cuisine: {cuisine if cuisine else 'No information provided'}\n",
    "    - Dietary Restrictions: {dietary if dietary else 'No information provided'}\n",
    "    - Time Available: {time if time else 'Assume 30 minutes is available to cook'}\n",
    "\n",
    "    Please create a personalized meal suggestion:\n",
    "    - Taking into consideration their preferred cuisine and dietary restriction\n",
    "    - Fits within the available time if given\n",
    "    - Give specific steps along with the ingredients\n",
    "\n",
    "    If some info is missing, make reasonable guesses.\n",
    "    Along with the above I want a complete array of all ingredients needed as a grocery list template. \n",
    "    \"\"\"\n",
    "\n",
    "    response = llm([HumanMessage(content=prompt)])\n",
    "\n",
    "    return response.content"
   ]
  },
  {
   "cell_type": "code",
   "execution_count": 35,
   "metadata": {},
   "outputs": [],
   "source": [
    "def suggest_meal_tool(input_str):\n",
    "    return suggest_meal(input_str)\n",
    "\n",
    "meal_tool = Tool.from_function(\n",
    "    suggest_meal_tool,\n",
    "    name=\"suggest_meal\",\n",
    "    description=\"Generates a personalized meal plan given cuisine, dietary restrictions, and time available in JSON format\"\n",
    ")"
   ]
  },
  {
   "cell_type": "code",
   "execution_count": 37,
   "metadata": {},
   "outputs": [
    {
     "name": "stdout",
     "output_type": "stream",
     "text": [
      "\n",
      "\n",
      "\u001b[1m> Entering new AgentExecutor chain...\u001b[0m\n",
      "\u001b[32;1m\u001b[1;3mI should use the suggest_meal tool to generate a personalized meal plan for a Chinese meal with lots of meat in 30 minutes.\n",
      "Action: suggest_meal\n",
      "Action Input: {cuisine: \"chinese\", dietary_restrictions: \"none\", time_available: 30, main_protein: \"meat\"}\u001b[0m\n",
      "Observation: \u001b[36;1m\u001b[1;3mError: input should be a JSON string.\u001b[0m\n",
      "Thought:\u001b[32;1m\u001b[1;3mI need to format the input as a JSON string.\n",
      "Action: suggest_meal\n",
      "Action Input: {\"cuisine\": \"chinese\", \"dietary_restrictions\": \"none\", \"time_available\": 30, \"main_protein\": \"meat\"}\u001b[0m\n",
      "Observation: \u001b[36;1m\u001b[1;3mBased on the client's preference for Chinese cuisine and the lack of dietary restrictions provided, I would suggest a quick and easy stir-fry dish that can be made in 30 minutes or less.\n",
      "\n",
      "Meal Suggestion: Beef and Vegetable Stir-Fry\n",
      "\n",
      "Ingredients:\n",
      "- 1 lb thinly sliced beef (such as flank steak)\n",
      "- 2 tablespoons soy sauce\n",
      "- 1 tablespoon oyster sauce\n",
      "- 1 tablespoon cornstarch\n",
      "- 1 tablespoon vegetable oil\n",
      "- 1 onion, sliced\n",
      "- 1 bell pepper, sliced\n",
      "- 1 cup broccoli florets\n",
      "- 1 carrot, sliced\n",
      "- 2 cloves garlic, minced\n",
      "- 1 teaspoon ginger, minced\n",
      "- Cooked rice or noodles, for serving\n",
      "\n",
      "Instructions:\n",
      "1. In a bowl, mix together the soy sauce, oyster sauce, and cornstarch. Add the beef slices and marinate for at least 10 minutes.\n",
      "2. Heat vegetable oil in a large skillet or wok over high heat. Add the marinated beef and stir-fry until browned, about 2-3 minutes. Remove beef from skillet and set aside.\n",
      "3. In the same skillet, add more oil if needed and stir-fry the onion, bell pepper, broccoli, carrot, garlic, and ginger until vegetables are tender-crisp, about 5-7 minutes.\n",
      "4. Add the cooked beef back to the skillet and stir to combine with the vegetables.\n",
      "5. Serve the beef and vegetable stir-fry over cooked rice or noodles.\n",
      "\n",
      "Grocery List:\n",
      "- Beef (flank steak)\n",
      "- Soy sauce\n",
      "- Oyster sauce\n",
      "- Cornstarch\n",
      "- Vegetable oil\n",
      "- Onion\n",
      "- Bell pepper\n",
      "- Broccoli\n",
      "- Carrot\n",
      "- Garlic\n",
      "- Ginger\n",
      "- Rice or noodles\n",
      "\n",
      "Feel free to adjust the ingredients or cooking steps based on any specific dietary restrictions or preferences the client may have. Enjoy your meal!\u001b[0m\n",
      "Thought:\u001b[32;1m\u001b[1;3mI have successfully provided a personalized meal suggestion for a Chinese meal with lots of meat in 30 minutes.\n",
      "Final Answer: The meal suggestion is Beef and Vegetable Stir-Fry for a quick and delicious Chinese meal with ample meat in 30 minutes.\u001b[0m\n",
      "\n",
      "\u001b[1m> Finished chain.\u001b[0m\n",
      "The meal suggestion is Beef and Vegetable Stir-Fry for a quick and delicious Chinese meal with ample meat in 30 minutes.\n"
     ]
    }
   ],
   "source": [
    "from langchain.agents import initialize_agent, AgentType\n",
    "\n",
    "agent = initialize_agent(\n",
    "    tools=[meal_tool],\n",
    "    llm=llm,\n",
    "    agent=AgentType.ZERO_SHOT_REACT_DESCRIPTION,\n",
    "    verbose=True,\n",
    ")\n",
    "\n",
    "response = agent.run(\"I have 30 minutes and I want a chinese meal with lots of meat. What meal should I cook?\")\n",
    "print(response)\n"
   ]
  },
  {
   "cell_type": "code",
   "execution_count": 38,
   "metadata": {},
   "outputs": [
    {
     "name": "stdout",
     "output_type": "stream",
     "text": [
      "\n",
      "\n",
      "\u001b[1m> Entering new AgentExecutor chain...\u001b[0m\n",
      "\u001b[32;1m\u001b[1;3mI should consider using the suggest_meal tool to generate a personalized meal plan based on the cuisine and dietary restrictions.\n",
      "Action: suggest_meal\n",
      "Action Input: {\"cuisine\": \"indian\", \"dietary_restrictions\": \"high protein\"}\u001b[0m\n",
      "Observation: \u001b[33;1m\u001b[1;3mBased on the client's preference for Indian cuisine and the limited time available, I recommend making a quick and easy paneer tikka masala. Paneer is a type of Indian cottage cheese that is rich in protein and pairs well with a flavorful masala sauce. \n",
      "\n",
      "Ingredients:\n",
      "- 1 block of paneer (cubed)\n",
      "- 1 onion (diced)\n",
      "- 1 bell pepper (diced)\n",
      "- 1 cup of plain yogurt\n",
      "- 2 tablespoons of tikka masala spice blend\n",
      "- 1 tablespoon of garam masala\n",
      "- 1 teaspoon of turmeric\n",
      "- 1 teaspoon of cumin\n",
      "- 1 tablespoon of minced garlic\n",
      "- 1 tablespoon of minced ginger\n",
      "- Salt and pepper to taste\n",
      "- Fresh cilantro for garnish\n",
      "\n",
      "Instructions:\n",
      "1. In a bowl, mix together the yogurt, tikka masala spice blend, garam masala, turmeric, cumin, garlic, ginger, salt, and pepper.\n",
      "2. Add the diced paneer, onion, and bell pepper to the marinade and let it sit for at least 15 minutes.\n",
      "3. Heat some oil in a pan and cook the paneer, onion, and bell pepper mixture until the paneer is lightly browned.\n",
      "4. Add any remaining marinade to the pan and cook for an additional few minutes until everything is heated through.\n",
      "5. Garnish with fresh cilantro before serving.\n",
      "\n",
      "Grocery list:\n",
      "- Paneer\n",
      "- Onion\n",
      "- Bell pepper\n",
      "- Plain yogurt\n",
      "- Tikka masala spice blend\n",
      "- Garam masala\n",
      "- Turmeric\n",
      "- Cumin\n",
      "- Garlic\n",
      "- Ginger\n",
      "- Salt\n",
      "- Pepper\n",
      "- Fresh cilantro\n",
      "\n",
      "Feel free to serve the paneer tikka masala over rice or with some naan bread for a complete meal. Enjoy!\u001b[0m\n",
      "Thought:\u001b[32;1m\u001b[1;3mI have provided a detailed recipe for a high-protein Indian meal using paneer. Now, I should move on to the next question.\n",
      "Final Answer: A detailed recipe for a high-protein Indian paneer tikka masala meal has been provided.\u001b[0m\n",
      "\n",
      "\u001b[1m> Finished chain.\u001b[0m\n",
      "A detailed recipe for a high-protein Indian paneer tikka masala meal has been provided.\n"
     ]
    }
   ],
   "source": [
    "# Combine both tools\n",
    "all_tools = [workout_tool, meal_tool]\n",
    "\n",
    "# One orchestrator agent for both\n",
    "orchestrator = initialize_agent(\n",
    "    tools=all_tools,\n",
    "    llm=llm,\n",
    "    agent=AgentType.ZERO_SHOT_REACT_DESCRIPTION,\n",
    "    verbose=True\n",
    ")\n",
    "\n",
    "# Try a natural language request:\n",
    "query = input(\"Ask for a workout or a meal for today!\")\n",
    "response = orchestrator.run(query)\n",
    "print(response)\n"
   ]
  },
  {
   "cell_type": "code",
   "execution_count": 2,
   "metadata": {},
   "outputs": [],
   "source": [
    "import pdfplumber\n",
    "\n",
    "pdf_path = \"workoutplan.pdf\"\n",
    "\n",
    "all_text = \"\"\n",
    "with pdfplumber.open(pdf_path) as pdf:\n",
    "    for page in pdf.pages:\n",
    "        text = page.extract_text()\n",
    "        if text:\n",
    "            all_text += text + \"\\n\""
   ]
  },
  {
   "cell_type": "code",
   "execution_count": 3,
   "metadata": {},
   "outputs": [
    {
     "name": "stdout",
     "output_type": "stream",
     "text": [
      "Number of chunks: 239\n"
     ]
    }
   ],
   "source": [
    "text_splitter = RecursiveCharacterTextSplitter(chunk_size=1000, chunk_overlap=50)\n",
    "chunks = text_splitter.split_text(all_text)\n",
    "print(f\"Number of chunks: {len(chunks)}\")"
   ]
  },
  {
   "cell_type": "code",
   "execution_count": 4,
   "metadata": {},
   "outputs": [
    {
     "name": "stderr",
     "output_type": "stream",
     "text": [
      "/var/folders/x1/1vc0lb715f1bhmqdh6whmvjm0000gn/T/ipykernel_18642/1675750014.py:1: LangChainDeprecationWarning: The class `OpenAIEmbeddings` was deprecated in LangChain 0.0.9 and will be removed in 1.0. An updated version of the class exists in the :class:`~langchain-openai package and should be used instead. To use it run `pip install -U :class:`~langchain-openai` and import as `from :class:`~langchain_openai import OpenAIEmbeddings``.\n",
      "  embeddings = OpenAIEmbeddings()\n"
     ]
    }
   ],
   "source": [
    "embeddings = OpenAIEmbeddings()\n",
    "chunk_embeddings = [embeddings.embed_query(chunk) for chunk in chunks]"
   ]
  },
  {
   "cell_type": "code",
   "execution_count": null,
   "metadata": {},
   "outputs": [],
   "source": [
    "from pinecone import Pinecone, ServerlessSpec\n",
    "import uuid \n",
    "\n",
    "pine_cone = os.getenv(\"PINECONE_API_KEY\")\n",
    "pc = Pinecone(api_key=pine_cone)"
   ]
  },
  {
   "cell_type": "code",
   "execution_count": 25,
   "metadata": {},
   "outputs": [],
   "source": [
    "index_name = \"lifting\"\n",
    "\n",
    "# look through indices \n",
    "if index_name not in pc.list_indexes().names():\n",
    "    pc.create_index(\n",
    "        name=index_name,\n",
    "        dimension=1536,\n",
    "        metric=\"cosine\",\n",
    "        spec=ServerlessSpec(cloud=\"aws\", region=\"us-east-1\")\n",
    "    )\n",
    "\n",
    "index = pc.Index(index_name)\n"
   ]
  },
  {
   "cell_type": "code",
   "execution_count": 26,
   "metadata": {},
   "outputs": [],
   "source": [
    "vectors = []\n",
    "for chunk in chunks:\n",
    "    vector_id = str(uuid.uuid4()) \n",
    "    vector_embedding = embeddings.embed_query(chunk)\n",
    "    vectors.append({\n",
    "        \"id\": vector_id,\n",
    "        \"values\": vector_embedding,\n",
    "        \"metadata\": {\n",
    "            \"text\": chunk\n",
    "        }\n",
    "    })"
   ]
  },
  {
   "cell_type": "code",
   "execution_count": 28,
   "metadata": {},
   "outputs": [
    {
     "name": "stdout",
     "output_type": "stream",
     "text": [
      "Uploaded 239 chunks to Pinecone index 'lifting'\n"
     ]
    }
   ],
   "source": [
    "index.upsert(vectors=vectors)\n",
    "print(f\"Uploaded {len(vectors)} chunks to Pinecone index '{index_name}'\")"
   ]
  },
  {
   "cell_type": "code",
   "execution_count": 29,
   "metadata": {},
   "outputs": [
    {
     "name": "stderr",
     "output_type": "stream",
     "text": [
      "/var/folders/x1/1vc0lb715f1bhmqdh6whmvjm0000gn/T/ipykernel_18642/4084417449.py:6: LangChainDeprecationWarning: The class `Pinecone` was deprecated in LangChain 0.0.18 and will be removed in 1.0. An updated version of the class exists in the :class:`~langchain-pinecone package and should be used instead. To use it run `pip install -U :class:`~langchain-pinecone` and import as `from :class:`~langchain_pinecone import Pinecone``.\n",
      "  retriever = LC_Pinecone(\n"
     ]
    }
   ],
   "source": [
    "from langchain.vectorstores import Pinecone as LC_Pinecone\n",
    "from langchain.embeddings.openai import OpenAIEmbeddings\n",
    "\n",
    "embeddings = OpenAIEmbeddings()\n",
    "\n",
    "retriever = LC_Pinecone(\n",
    "    index=index,\n",
    "    embedding=embeddings,\n",
    "    text_key=\"text\"\n",
    ").as_retriever(search_type=\"similarity\", search_kwargs={\"k\": 5})\n"
   ]
  },
  {
   "cell_type": "code",
   "execution_count": null,
   "metadata": {},
   "outputs": [],
   "source": []
  }
 ],
 "metadata": {
  "language_info": {
   "name": "python"
  }
 },
 "nbformat": 4,
 "nbformat_minor": 2
}
